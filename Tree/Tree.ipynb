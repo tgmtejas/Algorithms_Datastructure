{
 "cells": [
  {
   "cell_type": "code",
   "execution_count": 30,
   "metadata": {},
   "outputs": [],
   "source": [
    "class Node:\n",
    "    def __init__(self, value):\n",
    "        self.value = value\n",
    "        self.Left = None\n",
    "        self.Right = None\n",
    "        self.Parent=None\n",
    "\n",
    "class BST:\n",
    "    def __init__(self):\n",
    "        self.root = None\n",
    "       \n",
    "    ##################Insert###############################\n",
    "    def insertTree(self, value):\n",
    "        if self.root == None:\n",
    "            self.root = Node(value)\n",
    "        else:\n",
    "            self._insert(value, self.root)\n",
    "            \n",
    "    def _insert(self,value, cur_node):\n",
    "        if value < cur_node.value:\n",
    "            if cur_node.Left ==None:\n",
    "                cur_node.Left = Node(value)\n",
    "                cur_node.Left.Parent = cur_node\n",
    "            else:\n",
    "                self._insert(value, cur_node.Left)\n",
    "        elif value > cur_node.value:\n",
    "            if cur_node.Right ==None:\n",
    "                cur_node.Right = Node(value)\n",
    "                cur_node.Right.Parent= cur_node\n",
    "            else:\n",
    "                self._insert(value, cur_node.Right)\n",
    "        else:\n",
    "            print('Value already printed')\n",
    "              \n",
    "    \n",
    "    \n",
    "    \n",
    "    \n",
    "    \n",
    "    ################## Print Inorder ##########################\n",
    "    def print_tree(self): # Inline\n",
    "        if self.root:\n",
    "            self._print_tree(self.root)\n",
    "        \n",
    "    def _print_tree(self, cur_node):\n",
    "        if cur_node:\n",
    "            self._print_tree(cur_node.Left)\n",
    "            print(str(cur_node.value))\n",
    "            self._print_tree(cur_node.Right)\n",
    "    \n",
    "    \n",
    "    \n",
    "    \n",
    "    \n",
    "    \n",
    "    ################## Print Preorder ##########################\n",
    "    def print_tree_preorder(self): # Preorder\n",
    "        if self.root:\n",
    "            self._print_tree_preorder(self.root)\n",
    "        \n",
    "    def _print_tree_preorder(self, cur_node):\n",
    "        if cur_node:\n",
    "            print(str(cur_node.value))\n",
    "            self._print_tree_preorder(cur_node.Left)\n",
    "            self._print_tree_preorder(cur_node.Right)\n",
    "            \n",
    "     \n",
    "    \n",
    "    \n",
    "    \n",
    "    ################## Print Postorder ##########################\n",
    "    def print_tree_postorder(self): # Post order\n",
    "        if self.root:\n",
    "            self._print_tree_postorder(self.root)\n",
    "        \n",
    "    def _print_tree_postorder(self, cur_node):\n",
    "        if cur_node:\n",
    "            self._print_tree_postorder(cur_node.Left)\n",
    "            self._print_tree_postorder(cur_node.Right)\n",
    "            print(str(cur_node.value))\n",
    "    \n",
    "     \n",
    "        \n",
    "    ################## Find Node #################################\n",
    "    def find(self, value):\n",
    "        if self.root:\n",
    "            return self._find(value, self.root)\n",
    "        else:\n",
    "            return None\n",
    "        \n",
    "    def _find(self, value, cur_node):\n",
    "        if cur_node.value == value:\n",
    "            return cur_node\n",
    "        elif value < cur_node.value and cur_node.Left:\n",
    "            return self._find(value, cur_node.Left)\n",
    "        elif value > cur_node.value and cur_node.Right:\n",
    "            return self._find(value, cur_node.Right)\n",
    "        \n",
    "        \n",
    "    ################ Delete Node ################################\n",
    "    def delete_value(self, value):\n",
    "        return self.delete_node(self.find(value))\n",
    "    \n",
    "    def delete_node(self, node):\n",
    "        \n",
    "        # Returns node wth min value in subtree\n",
    "        def min_value_node(n):\n",
    "            current = n\n",
    "            while current.Left:\n",
    "                current = current.Left\n",
    "            return current\n",
    "        \n",
    "        # Returns number of children in node\n",
    "        def num_childeren(n):\n",
    "            num_child = 0\n",
    "            if n.Left: num_child += 1\n",
    "            if n.Right: num_child += 1\n",
    "            return num_child\n",
    "        \n",
    "        #Get Parent node\n",
    "        node_parent = node.Parent\n",
    "        \n",
    "        #Get number of children\n",
    "        node_children = num_childeren(node)\n",
    "        \n",
    "        if node_children==0:\n",
    "            #Check if left or right of parent is node\n",
    "            if node_parent.Left == node:\n",
    "                node_parent.Left = None\n",
    "            else:\n",
    "                node_parent.Right = None\n",
    "            \n",
    "        if node_children==1:\n",
    "            #Check if left or right of node has child\n",
    "            if node.Left:\n",
    "                child = node.Left\n",
    "            else:\n",
    "                child = node.Right\n",
    "            \n",
    "            # Node's child is now child of node's parent \n",
    "            if node_parent.Left == node:\n",
    "                node_parent.Left = child\n",
    "            else:\n",
    "                node_parent.Right = child\n",
    "            \n",
    "            #Update Child's parent\n",
    "            child.parent = node_parent\n",
    "            \n",
    "        if node_children == 2:\n",
    "            #Go to right of node and keep checking for minimun successor in left \n",
    "            successor = min_value_node(node.Right)\n",
    "            \n",
    "            #sccessor takes position of Node value\n",
    "            node.value= successor.value\n",
    "            \n",
    "            #Delete successor\n",
    "            self.delete_node(successor)\n",
    "            \n",
    "                \n",
    "      \n",
    "        \n",
    "            \n",
    "Tree1 = BST()\n",
    "Tree1.insertTree(12)\n",
    "Tree1.insertTree(10)\n",
    "Tree1.insertTree(14)\n",
    "Tree1.insertTree(8)\n",
    "Tree1.insertTree(11)\n",
    "Tree1.insertTree(13)\n",
    "Tree1.insertTree(15)"
   ]
  },
  {
   "cell_type": "code",
   "execution_count": 12,
   "metadata": {},
   "outputs": [
    {
     "name": "stdout",
     "output_type": "stream",
     "text": [
      "8\n",
      "10\n",
      "11\n",
      "12\n",
      "13\n",
      "14\n",
      "15\n"
     ]
    }
   ],
   "source": [
    "Tree1.print_tree()"
   ]
  },
  {
   "cell_type": "code",
   "execution_count": 15,
   "metadata": {},
   "outputs": [
    {
     "name": "stdout",
     "output_type": "stream",
     "text": [
      "12\n",
      "10\n",
      "8\n",
      "11\n",
      "14\n",
      "13\n",
      "15\n"
     ]
    }
   ],
   "source": [
    "Tree1.print_tree_preorder()"
   ]
  },
  {
   "cell_type": "code",
   "execution_count": 19,
   "metadata": {},
   "outputs": [
    {
     "name": "stdout",
     "output_type": "stream",
     "text": [
      "8\n",
      "11\n",
      "10\n",
      "13\n",
      "15\n",
      "14\n",
      "12\n"
     ]
    }
   ],
   "source": [
    "Tree1.print_tree_postorder()"
   ]
  },
  {
   "cell_type": "code",
   "execution_count": 31,
   "metadata": {},
   "outputs": [],
   "source": [
    "Tree1.delete_value(12)"
   ]
  },
  {
   "cell_type": "code",
   "execution_count": 33,
   "metadata": {},
   "outputs": [
    {
     "name": "stdout",
     "output_type": "stream",
     "text": [
      "13\n",
      "10\n",
      "8\n",
      "11\n",
      "14\n",
      "15\n"
     ]
    }
   ],
   "source": [
    "Tree1.print_tree_preorder()"
   ]
  },
  {
   "cell_type": "markdown",
   "metadata": {},
   "source": [
    "Here 12 is replaces by 13"
   ]
  },
  {
   "cell_type": "code",
   "execution_count": null,
   "metadata": {},
   "outputs": [],
   "source": []
  }
 ],
 "metadata": {
  "kernelspec": {
   "display_name": "Python 3",
   "language": "python",
   "name": "python3"
  },
  "language_info": {
   "codemirror_mode": {
    "name": "ipython",
    "version": 3
   },
   "file_extension": ".py",
   "mimetype": "text/x-python",
   "name": "python",
   "nbconvert_exporter": "python",
   "pygments_lexer": "ipython3",
   "version": "3.6.6"
  }
 },
 "nbformat": 4,
 "nbformat_minor": 2
}
