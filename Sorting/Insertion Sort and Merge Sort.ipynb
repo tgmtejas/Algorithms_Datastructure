{
 "cells": [
  {
   "cell_type": "markdown",
   "metadata": {},
   "source": [
    "# Insersion Sort"
   ]
  },
  {
   "cell_type": "code",
   "execution_count": 137,
   "metadata": {},
   "outputs": [
    {
     "name": "stdout",
     "output_type": "stream",
     "text": [
      "[9, 2, 8, 3, 7, 3, 6, 6, 0, 7]\n"
     ]
    }
   ],
   "source": [
    "import random \n",
    "random.seed(125)\n",
    "k = 10\n",
    "list = [int(random.random()*k) for i in range (k)]\n",
    "print(list)"
   ]
  },
  {
   "cell_type": "code",
   "execution_count": 138,
   "metadata": {},
   "outputs": [],
   "source": [
    "def Insertion_sort(nums):\n",
    "    \n",
    "    for i in range(1, len(nums)):                 #Initilise the marker\n",
    "        temp = nums[i]\n",
    "        for j in range(i):                      # Compare and Swap loop\n",
    "            if nums[i-j-1] > temp:\n",
    "                nums[i-j]=nums[i-j-1]\n",
    "                nums[i-j-1] = temp\n",
    "    return nums        "
   ]
  },
  {
   "cell_type": "code",
   "execution_count": 139,
   "metadata": {},
   "outputs": [
    {
     "name": "stdout",
     "output_type": "stream",
     "text": [
      "[0, 2, 3, 3, 6, 6, 7, 7, 8, 9]\n"
     ]
    }
   ],
   "source": [
    "sorted_list = Insertion_sort(list)\n",
    "print(sorted_list)"
   ]
  },
  {
   "cell_type": "markdown",
   "metadata": {},
   "source": [
    "# Merge Sort"
   ]
  },
  {
   "cell_type": "code",
   "execution_count": 177,
   "metadata": {},
   "outputs": [
    {
     "name": "stdout",
     "output_type": "stream",
     "text": [
      "[9, 2, 8, 3, 7, 3, 6, 6, 0, 7]\n"
     ]
    }
   ],
   "source": [
    "import random \n",
    "random.seed(125)\n",
    "k = 10\n",
    "list = [int(random.random()*k) for i in range (k)]\n",
    "print(list)"
   ]
  },
  {
   "cell_type": "code",
   "execution_count": 180,
   "metadata": {},
   "outputs": [],
   "source": [
    "def MergeSort(Merge_list):\n",
    "    #Condition to stop recursion\n",
    "    if len(Merge_list)>1:\n",
    "        mid = len(Merge_list)//2\n",
    "        Left = Merge_list[: mid]\n",
    "        Right = Merge_list[mid:]\n",
    "    \n",
    "        #Sort Left sublist\n",
    "        MergeSort(Left)\n",
    "    \n",
    "        #Sort Right sublist\n",
    "        MergeSort(Right)\n",
    "    \n",
    "        #Merge Both sublists\n",
    "        i = j = k = 0\n",
    "        #Elementwise compare Left and Right lists\n",
    "        while i< len(Left) and j < len(Right):\n",
    "            if Left[i] < Right[j]:\n",
    "                Merge_list[k] = Left[i]\n",
    "                i += 1\n",
    "                k += 1\n",
    "            else:\n",
    "                Merge_list[k] = Right[j]\n",
    "                j += 1\n",
    "                k += 1\n",
    "       #Left over numbers in Left List\n",
    "        while (i < len(Left)):\n",
    "            Merge_list[k] = Left[i]\n",
    "            i +=1\n",
    "            k +=1\n",
    "       #Left over numbers in Right list\n",
    "        while (j < len(Right)):\n",
    "            Merge_list[k] = Right[j]\n",
    "            j +=1\n",
    "            k +=1\n",
    "    return Merge_list"
   ]
  },
  {
   "cell_type": "code",
   "execution_count": 181,
   "metadata": {},
   "outputs": [
    {
     "name": "stdout",
     "output_type": "stream",
     "text": [
      "[0, 2, 3, 3, 6, 6, 7, 7, 8, 9]\n"
     ]
    }
   ],
   "source": [
    "print(MergeSort(list))"
   ]
  },
  {
   "cell_type": "code",
   "execution_count": null,
   "metadata": {},
   "outputs": [],
   "source": []
  }
 ],
 "metadata": {
  "kernelspec": {
   "display_name": "Python 3",
   "language": "python",
   "name": "python3"
  },
  "language_info": {
   "codemirror_mode": {
    "name": "ipython",
    "version": 3
   },
   "file_extension": ".py",
   "mimetype": "text/x-python",
   "name": "python",
   "nbconvert_exporter": "python",
   "pygments_lexer": "ipython3",
   "version": "3.6.6"
  }
 },
 "nbformat": 4,
 "nbformat_minor": 2
}
